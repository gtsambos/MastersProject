{
 "cells": [
  {
   "cell_type": "code",
   "execution_count": 410,
   "metadata": {},
   "outputs": [],
   "source": [
    "import msprime\n",
    "import sys\n",
    "import numpy as np\n",
    "import seaborn as sns\n",
    "from IPython.display import SVG\n",
    "import matplotlib.pyplot as plt\n",
    "from itertools import chain"
   ]
  },
  {
   "cell_type": "code",
   "execution_count": 411,
   "metadata": {},
   "outputs": [],
   "source": [
    "#Reference Population\n",
    "pop_configs = [\n",
    "    msprime.PopulationConfiguration(sample_size=300)]\n",
    "ts_ref = msprime.simulate(\n",
    "    population_configurations=pop_configs,mutation_rate=0.25,random_seed=11)"
   ]
  },
  {
   "cell_type": "code",
   "execution_count": 412,
   "metadata": {},
   "outputs": [],
   "source": [
    "#ABC Function\n",
    "def ABC(data,eps,pop_configs,prior=\"exponential\",prior_parameters=1,iters=1000):\n",
    "    ref_stat = (data.diversity(),data.Tajimas_D(),data.segregating_sites())\n",
    "    samples = []\n",
    "    norm_mean = 0\n",
    "    if prior == \"exponential\":\n",
    "        for i in range(0,iters):\n",
    "            mutation_rate_sim = np.random.exponential(prior_parameters)\n",
    "            ts_sim = msprime.simulate(population_configurations=pop_configs,mutation_rate=mutation_rate_sim)\n",
    "            sim_stat = (ts_sim.diversity(),ts_sim.Tajimas_D(),ts_sim.segregating_sites())\n",
    "            if np.linalg.norm(np.subtract(ref_stat,sim_stat)) < eps:\n",
    "                samples.append(mutation_rate_sim)\n",
    "                norm_mean += np.linalg.norm(np.subtract(ref_stat,sim_stat))\n",
    "            elif eps <= np.linalg.norm(np.subtract(ref_stat,sim_stat)) < 99999999:\n",
    "                norm_mean += np.linalg.norm(np.subtract(ref_stat,sim_stat))\n",
    "    elif prior == \"uniform\":\n",
    "        for i in range(0,iters):\n",
    "            mutation_rate_sim = np.random.uniform(prior_parameters[0],prior_parameters[1])\n",
    "            ts_sim = msprime.simulate(population_configurations=pop_configs,mutation_rate=mutation_rate_sim)\n",
    "            sim_stat = (ts_sim.diversity(),ts_sim.Tajimas_D(),ts_sim.segregating_sites())\n",
    "            if np.linalg.norm(np.subtract(ref_stat,sim_stat)) < eps:\n",
    "                samples.append(mutation_rate_sim)\n",
    "                norm_mean += np.linalg.norm(np.subtract(ref_stat,sim_stat))\n",
    "            elif eps <= np.linalg.norm(np.subtract(ref_stat,sim_stat)) < 99999999:\n",
    "                norm_mean += np.linalg.norm(np.subtract(ref_stat,sim_stat))\n",
    "    elif prior == \"gamma\":\n",
    "        for i in range(0,iters):\n",
    "            mutation_rate_sim = np.random.gamma(prior_parameters[0],prior_parameters[1])\n",
    "            ts_sim = msprime.simulate(population_configurations=pop_configs,mutation_rate=mutation_rate_sim)\n",
    "            sim_stat = (ts_sim.diversity(),ts_sim.Tajimas_D(),ts_sim.segregating_sites())\n",
    "            if np.linalg.norm(np.subtract(ref_stat,sim_stat)) < eps:\n",
    "                samples.append(mutation_rate_sim)\n",
    "                norm_mean += np.linalg.norm(np.subtract(ref_stat,sim_stat))\n",
    "            elif eps <= np.linalg.norm(np.subtract(ref_stat,sim_stat)) < 99999999:\n",
    "                norm_mean += np.linalg.norm(np.subtract(ref_stat,sim_stat))\n",
    "    return(samples,norm_mean/iterations)"
   ]
  },
  {
   "cell_type": "code",
   "execution_count": 413,
   "metadata": {},
   "outputs": [],
   "source": [
    "#ABC Function with standardised statistics\n",
    "def ABCalt(data,eps,pop_configs,prior=\"exponential\",prior_parameters=1,iters=1000):\n",
    "    ref_stat = (data.diversity(),data.Tajimas_D(),data.segregating_sites())\n",
    "    samples = []\n",
    "    norm_mean = 0\n",
    "    if prior == \"exponential\":\n",
    "        for i in range(0,iters):\n",
    "            mutation_rate_sim = np.random.exponential(prior_parameters)\n",
    "            ts_sim = msprime.simulate(population_configurations=pop_configs,mutation_rate=mutation_rate_sim)\n",
    "            sim_stat = (ts_sim.diversity()/data.diversity(),ts_sim.Tajimas_D()/data.Tajimas_D(),ts_sim.segregating_sites()/data.segregating_sites())\n",
    "            if np.linalg.norm(np.subtract(sim_stat,(1,1,1))) < eps:\n",
    "                samples.append(mutation_rate_sim)\n",
    "                norm_mean += np.linalg.norm(np.subtract(ref_stat,sim_stat))\n",
    "            elif eps <= np.linalg.norm(np.subtract(ref_stat,sim_stat)) < 99999999:\n",
    "                norm_mean += np.linalg.norm(np.subtract(ref_stat,sim_stat))\n",
    "    elif prior == \"uniform\":\n",
    "        for i in range(0,iters):\n",
    "            mutation_rate_sim = np.random.uniform(prior_parameters[0],prior_parameters[1])\n",
    "            ts_sim = msprime.simulate(population_configurations=pop_configs,mutation_rate=mutation_rate_sim)\n",
    "            sim_stat = (ts_sim.diversity()/data.diversity(),ts_sim.Tajimas_D()/data.Tajimas_D(),ts_sim.segregating_sites()/data.segregating_sites())\n",
    "            if np.linalg.norm(np.subtract(sim_stat,(1,1,1))) < eps:\n",
    "                samples.append(mutation_rate_sim)\n",
    "                norm_mean += np.linalg.norm(np.subtract(ref_stat,sim_stat))\n",
    "            elif eps <= np.linalg.norm(np.subtract(ref_stat,sim_stat)) < 99999999:\n",
    "                norm_mean += np.linalg.norm(np.subtract(ref_stat,sim_stat))\n",
    "    elif prior == \"gamma\":\n",
    "        for i in range(0,iters):\n",
    "            mutation_rate_sim = np.random.gamma(prior_parameters[0],prior_parameters[1])\n",
    "            ts_sim = msprime.simulate(population_configurations=pop_configs,mutation_rate=mutation_rate_sim)\n",
    "            sim_stat = (ts_sim.diversity()/data.diversity(),ts_sim.Tajimas_D()/data.Tajimas_D(),ts_sim.segregating_sites()/data.segregating_sites())\n",
    "            if np.linalg.norm(np.subtract(sim_stat,(1,1,1))) < eps:\n",
    "                samples.append(mutation_rate_sim)\n",
    "                norm_mean += np.linalg.norm(np.subtract(ref_stat,sim_stat))\n",
    "            elif eps <= np.linalg.norm(np.subtract(ref_stat,sim_stat)) < 99999999:\n",
    "                norm_mean += np.linalg.norm(np.subtract(ref_stat,sim_stat))\n",
    "    return(samples,norm_mean/iterations)"
   ]
  },
  {
   "cell_type": "markdown",
   "metadata": {},
   "source": [
    "Trying different priors - results are similar, all underestimate mutation rate"
   ]
  },
  {
   "cell_type": "code",
   "execution_count": 414,
   "metadata": {},
   "outputs": [
    {
     "name": "stdout",
     "output_type": "stream",
     "text": [
      "Wall time: 6min 5s\n"
     ]
    }
   ],
   "source": [
    "%%time\n",
    "#Exponential prior scale 1 \n",
    "iterations = 100000\n",
    "eps = 1\n",
    "prior= \"exponential\"\n",
    "prior_parameters = 1\n",
    "attempt1 = ABC(ts_ref,eps=eps,pop_configs=pop_configs,prior=prior,prior_parameters=prior_parameters,iters=iterations)"
   ]
  },
  {
   "cell_type": "code",
   "execution_count": 415,
   "metadata": {},
   "outputs": [
    {
     "data": {
      "image/png": "[encoded data removed]",
      "text/plain": [
       "<Figure size 432x288 with 1 Axes>"
      ]
     },
     "metadata": {
      "needs_background": "light"
     },
     "output_type": "display_data"
    },
    {
     "name": "stdout",
     "output_type": "stream",
     "text": [
      "Acceptance probability : 0.01212\n",
      "Mean norm :  22.225100386515944\n"
     ]
    }
   ],
   "source": [
    "plt.hist(attempt1[0], bins = 100)\n",
    "plt.ylabel('Frequency')\n",
    "plt.xlabel('Mutation rate')\n",
    "plt.title('Posterior estimate')\n",
    "plt.show()\n",
    "print(\"Acceptance probability :\",len(attempt1[0])/iterations)\n",
    "print(\"Mean norm : \",attempt1[1])"
   ]
  },
  {
   "cell_type": "code",
   "execution_count": 416,
   "metadata": {},
   "outputs": [
    {
     "name": "stdout",
     "output_type": "stream",
     "text": [
      "Wall time: 5min 42s\n"
     ]
    }
   ],
   "source": [
    "%%time\n",
    "#Exponential prior scale 0.1\n",
    "iterations = 100000\n",
    "eps = 1\n",
    "prior = \"exponential\"\n",
    "prior_parameters = 0.1\n",
    "attempt2 = ABC(ts_ref,eps=eps,pop_configs=pop_configs,prior=prior,prior_parameters=prior_parameters,iters=iterations)\n"
   ]
  },
  {
   "cell_type": "code",
   "execution_count": 417,
   "metadata": {},
   "outputs": [
    {
     "data": {
      "image/png": "[encoded data removed]",
      "text/plain": [
       "<Figure size 432x288 with 1 Axes>"
      ]
     },
     "metadata": {
      "needs_background": "light"
     },
     "output_type": "display_data"
    },
    {
     "name": "stdout",
     "output_type": "stream",
     "text": [
      "Acceptance probability : 0.02406\n",
      "Mean norm :  2.1972769628059843\n"
     ]
    }
   ],
   "source": [
    "plt.hist(attempt2[0], bins = 100)\n",
    "plt.ylabel('Frequency')\n",
    "plt.xlabel('Mutation rate')\n",
    "plt.title('Posterior estimate')\n",
    "plt.show()\n",
    "print(\"Acceptance probability :\",len(attempt2[0])/iterations)\n",
    "print(\"Mean norm : \",attempt2[1])"
   ]
  },
  {
   "cell_type": "code",
   "execution_count": 418,
   "metadata": {},
   "outputs": [
    {
     "name": "stdout",
     "output_type": "stream",
     "text": [
      "Wall time: 5min 58s\n"
     ]
    }
   ],
   "source": [
    "%%time\n",
    "#Gamma(0.5,1) prior\n",
    "iterations = 100000\n",
    "eps = 1\n",
    "prior = \"gamma\"\n",
    "prior_parameters = (0.5,1)\n",
    "attempt3 = ABC(ts_ref,eps=eps,pop_configs=pop_configs,prior=prior,prior_parameters=prior_parameters,iters=iterations)\n"
   ]
  },
  {
   "cell_type": "code",
   "execution_count": 419,
   "metadata": {},
   "outputs": [
    {
     "data": {
      "image/png": "[encoded data removed]",
      "text/plain": [
       "<Figure size 432x288 with 1 Axes>"
      ]
     },
     "metadata": {
      "needs_background": "light"
     },
     "output_type": "display_data"
    },
    {
     "name": "stdout",
     "output_type": "stream",
     "text": [
      "Acceptance probability : 0.01675\n",
      "Mean norm :  10.877386522111104\n"
     ]
    }
   ],
   "source": [
    "plt.hist(attempt3[0], bins = 100)\n",
    "plt.ylabel('Frequency')\n",
    "plt.xlabel('Mutation rate')\n",
    "plt.title('Posterior estimate')\n",
    "plt.show()\n",
    "print(\"Acceptance probability :\",len(attempt3[0])/iterations)\n",
    "print(\"Mean norm : \",attempt3[1])"
   ]
  },
  {
   "cell_type": "code",
   "execution_count": 420,
   "metadata": {},
   "outputs": [
    {
     "name": "stdout",
     "output_type": "stream",
     "text": [
      "Wall time: 6min 7s\n"
     ]
    }
   ],
   "source": [
    "%%time\n",
    "#Uniform(0,1) prior\n",
    "iterations = 100000\n",
    "eps = 1\n",
    "prior = \"uniform\"\n",
    "prior_parameters = (0,1)\n",
    "attempt4 = ABC(ts_ref,eps=eps,pop_configs=pop_configs,prior=prior,prior_parameters=prior_parameters,iters=iterations)\n"
   ]
  },
  {
   "cell_type": "code",
   "execution_count": 421,
   "metadata": {},
   "outputs": [
    {
     "data": {
      "image/png": "[encoded data removed]",
      "text/plain": [
       "<Figure size 432x288 with 1 Axes>"
      ]
     },
     "metadata": {
      "needs_background": "light"
     },
     "output_type": "display_data"
    },
    {
     "name": "stdout",
     "output_type": "stream",
     "text": [
      "Acceptance probability : 0.01518\n",
      "Mean norm :  9.717267974814987\n"
     ]
    }
   ],
   "source": [
    "plt.hist(attempt4[0], bins = 100)\n",
    "plt.ylabel('Frequency')\n",
    "plt.xlabel('Mutation rate')\n",
    "plt.title('Posterior estimate')\n",
    "plt.show()\n",
    "print(\"Acceptance probability :\",len(attempt4[0])/iterations)\n",
    "print(\"Mean norm : \",attempt4[1])"
   ]
  },
  {
   "cell_type": "code",
   "execution_count": 422,
   "metadata": {},
   "outputs": [
    {
     "name": "stdout",
     "output_type": "stream",
     "text": [
      "Wall time: 2min 58s\n"
     ]
    }
   ],
   "source": [
    "%%time\n",
    "#Gamma(0.5,1) prior, eps increased to 2, iterations halved\n",
    "iterations = 50000\n",
    "eps = 2\n",
    "prior = \"gamma\"\n",
    "prior_parameters = (0.5,1)\n",
    "attempt5 = ABC(ts_ref,eps=eps,pop_configs=pop_configs,prior=prior,prior_parameters=prior_parameters,iters=iterations)\n"
   ]
  },
  {
   "cell_type": "code",
   "execution_count": 423,
   "metadata": {},
   "outputs": [
    {
     "data": {
      "image/png": "[encoded data removed]",
      "text/plain": [
       "<Figure size 432x288 with 1 Axes>"
      ]
     },
     "metadata": {
      "needs_background": "light"
     },
     "output_type": "display_data"
    },
    {
     "name": "stdout",
     "output_type": "stream",
     "text": [
      "Acceptance probability : 0.09128\n",
      "Mean norm :  10.967823408285016\n"
     ]
    }
   ],
   "source": [
    "plt.hist(attempt5[0], bins = 100)\n",
    "plt.ylabel('Frequency')\n",
    "plt.xlabel('Mutation rate')\n",
    "plt.title('Posterior estimate')\n",
    "plt.show()\n",
    "print(\"Acceptance probability :\",len(attempt5[0])/iterations)\n",
    "print(\"Mean norm : \",attempt5[1])"
   ]
  },
  {
   "cell_type": "code",
   "execution_count": 424,
   "metadata": {},
   "outputs": [
    {
     "name": "stdout",
     "output_type": "stream",
     "text": [
      "Wall time: 6min 43s\n"
     ]
    }
   ],
   "source": [
    "%%time\n",
    "#Exponential prior scale 0.1, standardized statistics\n",
    "iterations = 100000\n",
    "eps = 1\n",
    "prior = \"exponential\"\n",
    "prior_parameters = 0.1\n",
    "attempt6 = ABCalt(ts_ref,eps=eps,pop_configs=pop_configs,prior=prior,prior_parameters=prior_parameters,iters=iterations)\n"
   ]
  },
  {
   "cell_type": "code",
   "execution_count": 425,
   "metadata": {},
   "outputs": [
    {
     "data": {
      "image/png": "[encoded data removed]",
      "text/plain": [
       "<Figure size 432x288 with 1 Axes>"
      ]
     },
     "metadata": {
      "needs_background": "light"
     },
     "output_type": "display_data"
    },
    {
     "name": "stdout",
     "output_type": "stream",
     "text": [
      "Acceptance probability : 0.08575\n",
      "Mean norm :  6.215799296281344\n"
     ]
    }
   ],
   "source": [
    "plt.hist(attempt6[0], bins = 100)\n",
    "plt.ylabel('Frequency')\n",
    "plt.xlabel('Mutation rate')\n",
    "plt.title('Posterior estimate')\n",
    "plt.show()\n",
    "print(\"Acceptance probability :\",len(attempt6[0])/iterations)\n",
    "print(\"Mean norm : \",attempt6[1])"
   ]
  },
  {
   "cell_type": "markdown",
   "metadata": {},
   "source": [
    "Changed random seed of reference population - ABC now overestimates mutation rate"
   ]
  },
  {
   "cell_type": "code",
   "execution_count": 468,
   "metadata": {},
   "outputs": [],
   "source": [
    "#Reference Population - Different seed\n",
    "pop_configs = [\n",
    "    msprime.PopulationConfiguration(sample_size=300)]\n",
    "ts_ref2 = msprime.simulate(\n",
    "    population_configurations=pop_configs,mutation_rate=0.25,random_seed=22)\n",
    "#4"
   ]
  },
  {
   "cell_type": "code",
   "execution_count": 469,
   "metadata": {},
   "outputs": [
    {
     "name": "stdout",
     "output_type": "stream",
     "text": [
      "Wall time: 5min 32s\n"
     ]
    }
   ],
   "source": [
    "%%time\n",
    "#Exponential prior scale 1\n",
    "iterations = 100000\n",
    "eps = 1\n",
    "prior = \"exponential\"\n",
    "prior_parameters = 1\n",
    "attempt7 = ABC(ts_ref2,eps=eps,pop_configs=pop_configs,prior=prior,prior_parameters=prior_parameters,iters=iterations)"
   ]
  },
  {
   "cell_type": "code",
   "execution_count": 470,
   "metadata": {},
   "outputs": [
    {
     "data": {
      "image/png": "[encoded data removed]",
      "text/plain": [
       "<Figure size 432x288 with 1 Axes>"
      ]
     },
     "metadata": {
      "needs_background": "light"
     },
     "output_type": "display_data"
    },
    {
     "name": "stdout",
     "output_type": "stream",
     "text": [
      "Acceptance probability : 0.01748\n",
      "Mean norm :  19.450736017389087\n"
     ]
    }
   ],
   "source": [
    "plt.hist(attempt7[0], bins = 100)\n",
    "plt.ylabel('Frequency')\n",
    "plt.xlabel('Mutation rate')\n",
    "plt.title('Posterior estimate')\n",
    "plt.show()\n",
    "print(\"Acceptance probability :\",len(attempt7[0])/iterations)\n",
    "print(\"Mean norm : \",attempt7[1])"
   ]
  },
  {
   "cell_type": "code",
   "execution_count": 460,
   "metadata": {},
   "outputs": [],
   "source": [
    "#Reference Population - Smaller sample size\n",
    "pop_configs = [\n",
    "    msprime.PopulationConfiguration(sample_size=50)]\n",
    "ts_ref3 = msprime.simulate(\n",
    "    population_configurations=pop_configs,mutation_rate=0.25,random_seed=8)\n",
    "#4"
   ]
  },
  {
   "cell_type": "code",
   "execution_count": 461,
   "metadata": {},
   "outputs": [
    {
     "name": "stdout",
     "output_type": "stream",
     "text": [
      "Wall time: 4min 28s\n"
     ]
    }
   ],
   "source": [
    "%%time\n",
    "#Exponential prior scale 1\n",
    "iterations = 100000\n",
    "eps = 1\n",
    "prior = \"exponential\"\n",
    "prior_parameters = 1\n",
    "attempt8 = ABC(ts_ref3,eps=eps,pop_configs=pop_configs,prior=prior,prior_parameters=prior_parameters,iters=iterations)"
   ]
  },
  {
   "cell_type": "code",
   "execution_count": 462,
   "metadata": {},
   "outputs": [
    {
     "data": {
      "image/png": "[encoded data removed]",
      "text/plain": [
       "<Figure size 432x288 with 1 Axes>"
      ]
     },
     "metadata": {
      "needs_background": "light"
     },
     "output_type": "display_data"
    },
    {
     "name": "stdout",
     "output_type": "stream",
     "text": [
      "Acceptance probability : 0.01908\n",
      "Mean norm :  16.16013666215987\n"
     ]
    }
   ],
   "source": [
    "plt.hist(attempt8[0], bins = 100)\n",
    "plt.ylabel('Frequency')\n",
    "plt.xlabel('Mutation rate')\n",
    "plt.title('Posterior estimate')\n",
    "plt.show()\n",
    "print(\"Acceptance probability :\",len(attempt8[0])/iterations)\n",
    "print(\"Mean norm : \",attempt8[1])"
   ]
  },
  {
   "cell_type": "code",
   "execution_count": 463,
   "metadata": {},
   "outputs": [],
   "source": [
    "#Reference Population - Larger sample size\n",
    "pop_configs = [\n",
    "    msprime.PopulationConfiguration(sample_size=1000)]\n",
    "ts_ref4 = msprime.simulate(\n",
    "    population_configurations=pop_configs,mutation_rate=0.25,random_seed=8)\n",
    "#4"
   ]
  },
  {
   "cell_type": "code",
   "execution_count": 466,
   "metadata": {},
   "outputs": [
    {
     "name": "stdout",
     "output_type": "stream",
     "text": [
      "Wall time: 9min 27s\n"
     ]
    }
   ],
   "source": [
    "%%time\n",
    "#Exponential prior scale 1\n",
    "iterations = 100000\n",
    "eps = 1\n",
    "prior = \"exponential\"\n",
    "prior_parameters = 1\n",
    "attempt9 = ABCalt(ts_ref4,eps=eps,pop_configs=pop_configs,prior=prior,prior_parameters=prior_parameters,iters=iterations)"
   ]
  },
  {
   "cell_type": "code",
   "execution_count": 467,
   "metadata": {},
   "outputs": [
    {
     "data": {
      "image/png": "[encoded data removed]",
      "text/plain": [
       "<Figure size 432x288 with 1 Axes>"
      ]
     },
     "metadata": {
      "needs_background": "light"
     },
     "output_type": "display_data"
    },
    {
     "name": "stdout",
     "output_type": "stream",
     "text": [
      "Acceptance probability : 0.03374\n",
      "Mean norm :  8.123389498364173\n"
     ]
    }
   ],
   "source": [
    "plt.hist(attempt9[0], bins = 100)\n",
    "plt.ylabel('Frequency')\n",
    "plt.xlabel('Mutation rate')\n",
    "plt.title('Posterior estimate')\n",
    "plt.show()\n",
    "print(\"Acceptance probability :\",len(attempt9[0])/iterations)\n",
    "print(\"Mean norm : \",attempt9[1])"
   ]
  },
  {
   "cell_type": "code",
   "execution_count": null,
   "metadata": {},
   "outputs": [],
   "source": [
    " "
   ]
  }
 ],
 "metadata": {
  "kernelspec": {
   "display_name": "Python 3",
   "language": "python",
   "name": "python3"
  },
  "language_info": {
   "codemirror_mode": {
    "name": "ipython",
    "version": 3
   },
   "file_extension": ".py",
   "mimetype": "text/x-python",
   "name": "python",
   "nbconvert_exporter": "python",
   "pygments_lexer": "ipython3",
   "version": "3.7.6"
  }
 },
 "nbformat": 4,
 "nbformat_minor": 4
}
