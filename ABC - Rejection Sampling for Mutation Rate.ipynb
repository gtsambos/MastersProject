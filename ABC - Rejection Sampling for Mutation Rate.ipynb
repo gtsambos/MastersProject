{
 "cells": [
  {
   "cell_type": "code",
   "execution_count": 352,
   "metadata": {},
   "outputs": [],
   "source": [
    "import msprime\n",
    "import sys\n",
    "import numpy as np\n",
    "import seaborn as sns\n",
    "from IPython.display import SVG\n",
    "import matplotlib.pyplot as plt\n",
    "from itertools import chain"
   ]
  },
  {
   "cell_type": "code",
   "execution_count": 391,
   "metadata": {},
   "outputs": [],
   "source": [
    "#Reference Population\n",
    "pop_configs = [\n",
    "    msprime.PopulationConfiguration(sample_size=300)]\n",
    "ts_ref = msprime.simulate(\n",
    "    population_configurations=pop_configs,mutation_rate=0.25,random_seed=9)"
   ]
  },
  {
   "cell_type": "code",
   "execution_count": 392,
   "metadata": {},
   "outputs": [],
   "source": [
    "#ABC Function\n",
    "def ABC(data,eps,pop_configs,prior=\"exponential\",prior_parameters=1,iters=1000):\n",
    "    ref_stat = (data.diversity(),data.Tajimas_D(),data.segregating_sites())\n",
    "    samples = []\n",
    "    norm_mean = 0\n",
    "    if prior == \"exponential\":\n",
    "        for i in range(0,iters):\n",
    "            mutation_rate_sim = np.random.exponential(prior_parameters)\n",
    "            ts_sim = msprime.simulate(population_configurations=pop_configs,mutation_rate=mutation_rate_sim)\n",
    "            sim_stat = (ts_sim.diversity(),ts_sim.Tajimas_D(),ts_sim.segregating_sites())\n",
    "            if np.linalg.norm(np.subtract(ref_stat,sim_stat)) < eps:\n",
    "                samples.append(mutation_rate_sim)\n",
    "                norm_mean += np.linalg.norm(np.subtract(ref_stat,sim_stat))\n",
    "            elif eps <= np.linalg.norm(np.subtract(ref_stat,sim_stat)) < 99999999:\n",
    "                norm_mean += np.linalg.norm(np.subtract(ref_stat,sim_stat))\n",
    "    elif prior == \"uniform\":\n",
    "        for i in range(0,iters):\n",
    "            mutation_rate_sim = np.random.uniform(prior_parameters[0],prior_parameters[1])\n",
    "            ts_sim = msprime.simulate(population_configurations=pop_configs,mutation_rate=mutation_rate_sim)\n",
    "            sim_stat = (ts_sim.diversity(),ts_sim.Tajimas_D(),ts_sim.segregating_sites())\n",
    "            if np.linalg.norm(np.subtract(ref_stat,sim_stat)) < eps:\n",
    "                samples.append(mutation_rate_sim)\n",
    "                norm_mean += np.linalg.norm(np.subtract(ref_stat,sim_stat))\n",
    "            elif eps <= np.linalg.norm(np.subtract(ref_stat,sim_stat)) < 99999999:\n",
    "                norm_mean += np.linalg.norm(np.subtract(ref_stat,sim_stat))\n",
    "    elif prior == \"gamma\":\n",
    "        for i in range(0,iters):\n",
    "            mutation_rate_sim = np.random.gamma(prior_parameters[0],prior_parameters[1])\n",
    "            ts_sim = msprime.simulate(population_configurations=pop_configs,mutation_rate=mutation_rate_sim)\n",
    "            sim_stat = (ts_sim.diversity(),ts_sim.Tajimas_D(),ts_sim.segregating_sites())\n",
    "            if np.linalg.norm(np.subtract(ref_stat,sim_stat)) < eps:\n",
    "                samples.append(mutation_rate_sim)\n",
    "                norm_mean += np.linalg.norm(np.subtract(ref_stat,sim_stat))\n",
    "            elif eps <= np.linalg.norm(np.subtract(ref_stat,sim_stat)) < 99999999:\n",
    "                norm_mean += np.linalg.norm(np.subtract(ref_stat,sim_stat))\n",
    "    return(samples,norm_mean/iterations)\n",
    "\n",
    "\n"
   ]
  },
  {
   "cell_type": "code",
   "execution_count": 407,
   "metadata": {},
   "outputs": [],
   "source": [
    "#ABC Function with standardised statistics\n",
    "def ABCalt(data,eps,pop_configs,prior=\"exponential\",prior_parameters=1,iters=1000):\n",
    "    ref_stat = (data.diversity(),data.Tajimas_D(),data.segregating_sites())\n",
    "    samples = []\n",
    "    norm_mean = 0\n",
    "    if prior == \"exponential\":\n",
    "        for i in range(0,iters):\n",
    "            mutation_rate_sim = np.random.exponential(prior_parameters)\n",
    "            ts_sim = msprime.simulate(population_configurations=pop_configs,mutation_rate=mutation_rate_sim)\n",
    "            sim_stat = (ts_sim.diversity()/data.diversity(),ts_sim.Tajimas_D()/data.Tajimas_D(),ts_sim.segregating_sites()/data.segregating_sites())\n",
    "            if np.linalg.norm(np.subtract(sim_stat,(1,1,1))) < eps:\n",
    "                samples.append(mutation_rate_sim)\n",
    "                norm_mean += np.linalg.norm(np.subtract(ref_stat,sim_stat))\n",
    "            elif eps <= np.linalg.norm(np.subtract(ref_stat,sim_stat)) < 99999999:\n",
    "                norm_mean += np.linalg.norm(np.subtract(ref_stat,sim_stat))\n",
    "    elif prior == \"uniform\":\n",
    "        for i in range(0,iters):\n",
    "            mutation_rate_sim = np.random.uniform(prior_parameters[0],prior_parameters[1])\n",
    "            ts_sim = msprime.simulate(population_configurations=pop_configs,mutation_rate=mutation_rate_sim)\n",
    "            sim_stat = (ts_sim.diversity()/data.diversity(),ts_sim.Tajimas_D()/data.Tajimas_D(),ts_sim.segregating_sites()/data.segregating_sites())\n",
    "            if np.linalg.norm(np.subtract(sim_stat,(1,1,1))) < eps:\n",
    "                samples.append(mutation_rate_sim)\n",
    "                norm_mean += np.linalg.norm(np.subtract(ref_stat,sim_stat))\n",
    "            elif eps <= np.linalg.norm(np.subtract(ref_stat,sim_stat)) < 99999999:\n",
    "                norm_mean += np.linalg.norm(np.subtract(ref_stat,sim_stat))\n",
    "    elif prior == \"gamma\":\n",
    "        for i in range(0,iters):\n",
    "            mutation_rate_sim = np.random.gamma(prior_parameters[0],prior_parameters[1])\n",
    "            ts_sim = msprime.simulate(population_configurations=pop_configs,mutation_rate=mutation_rate_sim)\n",
    "            sim_stat = (ts_sim.diversity()/data.diversity(),ts_sim.Tajimas_D()/data.Tajimas_D(),ts_sim.segregating_sites()/data.segregating_sites())\n",
    "            if np.linalg.norm(np.subtract(sim_stat,(1,1,1))) < eps:\n",
    "                samples.append(mutation_rate_sim)\n",
    "                norm_mean += np.linalg.norm(np.subtract(ref_stat,sim_stat))\n",
    "            elif eps <= np.linalg.norm(np.subtract(ref_stat,sim_stat)) < 99999999:\n",
    "                norm_mean += np.linalg.norm(np.subtract(ref_stat,sim_stat))\n",
    "    return(samples,norm_mean/iterations)"
   ]
  },
  {
   "cell_type": "code",
   "execution_count": 394,
   "metadata": {},
   "outputs": [
    {
     "name": "stdout",
     "output_type": "stream",
     "text": [
      "Wall time: 5min 22s\n"
     ]
    }
   ],
   "source": [
    "%%time\n",
    "#Each algorithm takes ~ 5 minutes to complete\n",
    "#Exponential prior scale 1 \n",
    "iterations = 100000\n",
    "eps = 1\n",
    "prior= \"exponential\"\n",
    "prior_parameters = 1\n",
    "attempt1 = ABC(ts_ref,eps=eps,pop_configs=pop_configs,prior=prior,prior_parameters=prior_parameters,iters=iterations)\n"
   ]
  },
  {
   "cell_type": "code",
   "execution_count": 395,
   "metadata": {},
   "outputs": [
    {
     "data": {
      "image/png": "[encoded data removed]",
      "text/plain": [
       "<Figure size 432x288 with 1 Axes>"
      ]
     },
     "metadata": {
      "needs_background": "light"
     },
     "output_type": "display_data"
    },
    {
     "name": "stdout",
     "output_type": "stream",
     "text": [
      "Acceptance probability : 0.00917\n",
      "Mean norm :  23.118803752053612\n"
     ]
    }
   ],
   "source": [
    "plt.hist(attempt1[0], bins = 100)\n",
    "plt.ylabel('Frequency')\n",
    "plt.xlabel('Mutation rate')\n",
    "plt.title('Posterior estimate')\n",
    "plt.show()\n",
    "print(\"Acceptance probability :\",len(attempt1[0])/iterations)\n",
    "print(\"Mean norm : \",attempt1[1])"
   ]
  },
  {
   "cell_type": "code",
   "execution_count": 396,
   "metadata": {},
   "outputs": [
    {
     "name": "stdout",
     "output_type": "stream",
     "text": [
      "Wall time: 5min 7s\n"
     ]
    }
   ],
   "source": [
    "%%time\n",
    "#Exponential prior scale 0.1\n",
    "iterations = 100000\n",
    "eps = 1\n",
    "prior = \"exponential\"\n",
    "prior_parameters = 0.1\n",
    "attempt2 = ABC(ts_ref,eps=eps,pop_configs=pop_configs,prior=prior,prior_parameters=prior_parameters,iters=iterations)\n"
   ]
  },
  {
   "cell_type": "code",
   "execution_count": 397,
   "metadata": {},
   "outputs": [
    {
     "data": {
      "image/png": "[encoded data removed]",
      "text/plain": [
       "<Figure size 432x288 with 1 Axes>"
      ]
     },
     "metadata": {
      "needs_background": "light"
     },
     "output_type": "display_data"
    },
    {
     "name": "stdout",
     "output_type": "stream",
     "text": [
      "Acceptance probability : 0.02888\n",
      "Mean norm :  2.055066104353168\n"
     ]
    }
   ],
   "source": [
    "plt.hist(attempt2[0], bins = 100)\n",
    "plt.ylabel('Frequency')\n",
    "plt.xlabel('Mutation rate')\n",
    "plt.title('Posterior estimate')\n",
    "plt.show()\n",
    "print(\"Acceptance probability :\",len(attempt2[0])/iterations)\n",
    "print(\"Mean norm : \",attempt2[1])"
   ]
  },
  {
   "cell_type": "code",
   "execution_count": 398,
   "metadata": {},
   "outputs": [
    {
     "name": "stdout",
     "output_type": "stream",
     "text": [
      "Wall time: 5min 2s\n"
     ]
    }
   ],
   "source": [
    "%%time\n",
    "#Gamma(0.5,1) prior\n",
    "iterations = 100000\n",
    "eps = 1\n",
    "prior = \"gamma\"\n",
    "prior_parameters = (0.5,1)\n",
    "attempt3 = ABC(ts_ref,eps=eps,pop_configs=pop_configs,prior=prior,prior_parameters=prior_parameters,iters=iterations)\n"
   ]
  },
  {
   "cell_type": "code",
   "execution_count": 399,
   "metadata": {},
   "outputs": [
    {
     "data": {
      "image/png": "[encoded data removed]",
      "text/plain": [
       "<Figure size 432x288 with 1 Axes>"
      ]
     },
     "metadata": {
      "needs_background": "light"
     },
     "output_type": "display_data"
    },
    {
     "name": "stdout",
     "output_type": "stream",
     "text": [
      "Acceptance probability : 0.0152\n",
      "Mean norm :  11.158080116817004\n"
     ]
    }
   ],
   "source": [
    "plt.hist(attempt3[0], bins = 100)\n",
    "plt.ylabel('Frequency')\n",
    "plt.xlabel('Mutation rate')\n",
    "plt.title('Posterior estimate')\n",
    "plt.show()\n",
    "print(\"Acceptance probability :\",len(attempt3[0])/iterations)\n",
    "print(\"Mean norm : \",attempt3[1])"
   ]
  },
  {
   "cell_type": "code",
   "execution_count": 400,
   "metadata": {},
   "outputs": [
    {
     "name": "stdout",
     "output_type": "stream",
     "text": [
      "Wall time: 5min 2s\n"
     ]
    }
   ],
   "source": [
    "%%time\n",
    "#Uniform(0,1) prior\n",
    "iterations = 100000\n",
    "eps = 1\n",
    "prior = \"uniform\"\n",
    "prior_parameters = (0,1)\n",
    "attempt4 = ABC(ts_ref,eps=eps,pop_configs=pop_configs,prior=prior,prior_parameters=prior_parameters,iters=iterations)\n"
   ]
  },
  {
   "cell_type": "code",
   "execution_count": 401,
   "metadata": {},
   "outputs": [
    {
     "data": {
      "image/png": "[encoded data removed]",
      "text/plain": [
       "<Figure size 432x288 with 1 Axes>"
      ]
     },
     "metadata": {
      "needs_background": "light"
     },
     "output_type": "display_data"
    },
    {
     "name": "stdout",
     "output_type": "stream",
     "text": [
      "Acceptance probability : 0.01142\n",
      "Mean norm :  10.363947207133416\n"
     ]
    }
   ],
   "source": [
    "plt.hist(attempt4[0], bins = 100)\n",
    "plt.ylabel('Frequency')\n",
    "plt.xlabel('Mutation rate')\n",
    "plt.title('Posterior estimate')\n",
    "plt.show()\n",
    "print(\"Acceptance probability :\",len(attempt4[0])/iterations)\n",
    "print(\"Mean norm : \",attempt4[1])"
   ]
  },
  {
   "cell_type": "code",
   "execution_count": 402,
   "metadata": {},
   "outputs": [
    {
     "name": "stdout",
     "output_type": "stream",
     "text": [
      "Wall time: 2min 31s\n"
     ]
    }
   ],
   "source": [
    "%%time\n",
    "#Gamma(0.5,1) prior, eps increased to 2, iterations halved\n",
    "iterations = 50000\n",
    "eps = 2\n",
    "prior = \"gamma\"\n",
    "prior_parameters = (0.5,1)\n",
    "attempt5 = ABC(ts_ref,eps=eps,pop_configs=pop_configs,prior=prior,prior_parameters=prior_parameters,iters=iterations)\n"
   ]
  },
  {
   "cell_type": "code",
   "execution_count": 403,
   "metadata": {},
   "outputs": [
    {
     "data": {
      "image/png": "[encoded data removed]",
      "text/plain": [
       "<Figure size 432x288 with 1 Axes>"
      ]
     },
     "metadata": {
      "needs_background": "light"
     },
     "output_type": "display_data"
    },
    {
     "name": "stdout",
     "output_type": "stream",
     "text": [
      "Acceptance probability : 0.09838\n",
      "Mean norm :  10.993555038537004\n"
     ]
    }
   ],
   "source": [
    "plt.hist(attempt5[0], bins = 100)\n",
    "plt.ylabel('Frequency')\n",
    "plt.xlabel('Mutation rate')\n",
    "plt.title('Posterior estimate')\n",
    "plt.show()\n",
    "print(\"Acceptance probability :\",len(attempt5[0])/iterations)\n",
    "print(\"Mean norm : \",attempt5[1])"
   ]
  },
  {
   "cell_type": "code",
   "execution_count": 408,
   "metadata": {},
   "outputs": [
    {
     "name": "stdout",
     "output_type": "stream",
     "text": [
      "Wall time: 6min 14s\n"
     ]
    }
   ],
   "source": [
    "%%time\n",
    "#Exponential prior scale 0.1, standardized statistics\n",
    "iterations = 100000\n",
    "eps = 1\n",
    "prior = \"exponential\"\n",
    "prior_parameters = 0.1\n",
    "attempt6 = ABCalt(ts_ref,eps=eps,pop_configs=pop_configs,prior=prior,prior_parameters=prior_parameters,iters=iterations)\n"
   ]
  },
  {
   "cell_type": "code",
   "execution_count": 409,
   "metadata": {},
   "outputs": [
    {
     "data": {
      "image/png": "[encoded data removed]",
      "text/plain": [
       "<Figure size 432x288 with 1 Axes>"
      ]
     },
     "metadata": {
      "needs_background": "light"
     },
     "output_type": "display_data"
    },
    {
     "name": "stdout",
     "output_type": "stream",
     "text": [
      "Acceptance probability : 0.17441\n",
      "Mean norm :  1.8585072641012244\n"
     ]
    }
   ],
   "source": [
    "plt.hist(attempt6[0], bins = 100)\n",
    "plt.ylabel('Frequency')\n",
    "plt.xlabel('Mutation rate')\n",
    "plt.title('Posterior estimate')\n",
    "plt.show()\n",
    "print(\"Acceptance probability :\",len(attempt6[0])/iterations)\n",
    "print(\"Mean norm : \",attempt6[1])"
   ]
  },
  {
   "cell_type": "code",
   "execution_count": null,
   "metadata": {},
   "outputs": [],
   "source": []
  }
 ],
 "metadata": {
  "kernelspec": {
   "display_name": "Python 3",
   "language": "python",
   "name": "python3"
  },
  "language_info": {
   "codemirror_mode": {
    "name": "ipython",
    "version": 3
   },
   "file_extension": ".py",
   "mimetype": "text/x-python",
   "name": "python",
   "nbconvert_exporter": "python",
   "pygments_lexer": "ipython3",
   "version": "3.7.6"
  }
 },
 "nbformat": 4,
 "nbformat_minor": 4
}
